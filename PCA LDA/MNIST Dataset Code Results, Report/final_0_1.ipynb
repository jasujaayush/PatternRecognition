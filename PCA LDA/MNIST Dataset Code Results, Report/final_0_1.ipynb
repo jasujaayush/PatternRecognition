{
 "cells": [
  {
   "cell_type": "markdown",
   "metadata": {},
   "source": [
    "Assignment 1 : Pattern Recognition - MNIST dataset"
   ]
  },
  {
   "cell_type": "code",
   "execution_count": 85,
   "metadata": {
    "collapsed": true
   },
   "outputs": [],
   "source": [
    "import pandas as pd\n",
    "import numpy as np\n",
    "from sklearn.preprocessing import normalize\n",
    "import warnings\n",
    "import matplotlib.pyplot as plt\n",
    "warnings.filterwarnings('ignore')\n",
    "from sklearn.discriminant_analysis import LinearDiscriminantAnalysis\n",
    "from sklearn.decomposition import PCA as sklearnPCA\n",
    "import math\n",
    "from sklearn.metrics import confusion_matrix\n",
    "import itertools\n",
    "from itertools import *\n",
    "from sklearn.naive_bayes import GaussianNB"
   ]
  },
  {
   "cell_type": "code",
   "execution_count": 2,
   "metadata": {
    "collapsed": true
   },
   "outputs": [],
   "source": [
    "mnist_train_path = 'MNIST/train.csv'\n",
    "mnist_test_path = 'MNIST/test.csv'\n",
    "\n",
    "mnist_train_df = pd.read_csv(mnist_train_path, header=None).T\n",
    "mnist_test_df = pd.read_csv(mnist_test_path, header=None).T\n",
    "last_column = mnist_test_df.columns[-1]\n",
    "mnist_train_df.rename(columns={last_column:'Class'}, inplace=True)\n",
    "mnist_test_df.rename(columns={last_column:'Class'}, inplace=True)"
   ]
  },
  {
   "cell_type": "markdown",
   "metadata": {},
   "source": [
    "PCA compressor"
   ]
  },
  {
   "cell_type": "code",
   "execution_count": 3,
   "metadata": {
    "collapsed": false
   },
   "outputs": [],
   "source": [
    "def my_pca(X,n_comp):\n",
    "    cov_mat = np.cov(X.T)\n",
    "    #print cov_mat.shape\n",
    "\n",
    "    eig_val, eig_vec = np.linalg.eig(cov_mat)\n",
    "    eig_pairs = [(np.abs(eig_val[i]), eig_vec[:,i]) for i in range(len(eig_val))]\n",
    "    # Sort the (eigenvalue, eigenvector) tuples from high to low\n",
    "    eig_pairs.sort(key=lambda x: x[0], reverse=True)\n",
    "\n",
    "    matrix_w = np.hstack(eig_pairs[i][1].reshape(784,1) for i in range(0,n_comp))\n",
    "    transformed = (matrix_w.T.dot(X.T)).T.real\n",
    "    #print transformed.shape\n",
    "    return eig_pairs,matrix_w.real,transformed"
   ]
  },
  {
   "cell_type": "markdown",
   "metadata": {},
   "source": [
    "LDA compressor"
   ]
  },
  {
   "cell_type": "code",
   "execution_count": 100,
   "metadata": {
    "collapsed": true
   },
   "outputs": [],
   "source": [
    "def my_lda_compressor(X,n_class_0,n_class_1,n_comp):\n",
    "    mean_vector_0 = []\n",
    "    mean_vector_1 = []\n",
    "    for i in range(0,784):\n",
    "        mean_vector_0.append(np.mean(X[0:n_class_0,i]))\n",
    "        mean_vector_1.append(np.mean(X[n_class_0:,i]))\n",
    "    mean_vector_0 = np.array(mean_vector_0)\n",
    "    mean_vector_1 = np.array(mean_vector_1)\n",
    "\n",
    "    scatter_0 = np.zeros((784,784))\n",
    "    #for i in range(0,n_class_0):\n",
    "     #   x = X[i].reshape(784,1)\n",
    "    #  mean = mean_vector_0.reshape(784,1)\n",
    "      #  scatter_0 += (x-mean).dot((x-mean).T)\n",
    "        \n",
    "    scatter_0 = n_class_0*np.cov(X[0:n_class_0].T)\n",
    "\n",
    "    scatter_1 = np.zeros((784,784))\n",
    "    #for i in range(0,n_class_1):\n",
    "     #   x = X[i+n_class_0].reshape(784,1)\n",
    "    #   mean = mean_vector_1.reshape(784,1)\n",
    "      #  scatter_1 += (x-mean).dot((x-mean).T)\n",
    "        \n",
    "    scatter_1 = n_class_1*np.cov(X[n_class_0:].T)\n",
    "    \n",
    "    scatter_w = scatter_0 + scatter_1\n",
    "    \n",
    "    #return mean_vector_0,mean_vector_1,sigma_0,sigma_1\n",
    "\n",
    "    #w = np.linalg.pinv(sigma_0+sigma_1).dot((mean_vector_1-mean_vector_0).reshape(n_features,1))\n",
    "\n",
    "    #c = np.dot(w.T,0.5*((mean_vector_1+mean_vector_0).reshape(n_features,1))).flatten()[0]\n",
    "    #print \"Hello\"\n",
    "    \n",
    "    mat_between = np.zeros((784,784))\n",
    "    overall_mean = mean_vector_0 + mean_vector_1\n",
    "    overall_mean = overall_mean / 2.0\n",
    "    overall_mean = overall_mean.reshape(784,1)\n",
    "    \n",
    "    #print \"Hi\"\n",
    "    \n",
    "    mean_vec = mean_vector_0.reshape(784,1)\n",
    "    mat_between += n_class_0*((mean_vec-overall_mean).dot((mean_vec-overall_mean).T))\n",
    "\n",
    "    mean_vec = mean_vector_1.reshape(784,1)\n",
    "    mat_between += n_class_1*((mean_vec-overall_mean).dot((mean_vec-overall_mean).T))\n",
    "    \n",
    "    #print mat_between.shape\n",
    "    #print scatter_w.shape\n",
    "\n",
    "    eig_vals, eig_vecs = np.linalg.eigh(np.linalg.pinv(scatter_w).dot(mat_between))\n",
    "   \n",
    "    \n",
    "    eig_pairs = [(np.abs(eig_vals[i]), eig_vecs[:,i]) for i in range(len(eig_vals))]\n",
    "    \n",
    "    # Sort the (eigenvalue, eigenvector) tuples from high to low\n",
    "    eig_pairs.sort(key=lambda x: x[0], reverse=True)\n",
    "    \n",
    "    W_lda = np.hstack(eig_pairs[i][1].reshape(784,1) for i in range(0,n_comp))\n",
    "    \n",
    "    \n",
    "    X_trans = (W_lda.T.dot(X.T)).T\n",
    "    \n",
    "    \n",
    "    return eig_pairs,W_lda, X_trans"
   ]
  },
  {
   "cell_type": "markdown",
   "metadata": {},
   "source": [
    "LDA classifier"
   ]
  },
  {
   "cell_type": "code",
   "execution_count": 47,
   "metadata": {
    "collapsed": false
   },
   "outputs": [],
   "source": [
    "def lda_classifier(X,n_class_0,n_class_1,n_features):\n",
    "    mean_vector_0 = []\n",
    "    mean_vector_1 = []\n",
    "    for i in range(0,n_features):\n",
    "        mean_vector_0.append(np.mean(X[0:n_class_0,i]))\n",
    "        mean_vector_1.append(np.mean(X[n_class_0:,i]))\n",
    "    mean_vector_0 = np.array(mean_vector_0)\n",
    "    mean_vector_1 = np.array(mean_vector_1)\n",
    "\n",
    "    sigma_0 = np.zeros((n_features,n_features))\n",
    "    for i in range(0,n_class_0):\n",
    "        x = X[i].reshape(n_features,1)\n",
    "        mean = mean_vector_0.reshape(n_features,1)\n",
    "        sigma_0 += (1.0/n_class_0)*((x-mean).dot((x-mean).T))\n",
    "\n",
    "    sigma_1 = np.zeros((n_features,n_features))\n",
    "    for i in range(0,n_class_1):\n",
    "        x = X[n_class_0+i].reshape(n_features,1)\n",
    "        mean = mean_vector_1.reshape(n_features,1)\n",
    "        sigma_1 += (1.0/n_class_1)*((x-mean).dot((x-mean).T))\n",
    "    \n",
    "    #return mean_vector_0,mean_vector_1,sigma_0,sigma_1\n",
    "\n",
    "    w = np.linalg.pinv(sigma_0+sigma_1).dot((mean_vector_1-mean_vector_0).reshape(n_features,1))\n",
    "\n",
    "    c = np.dot(w.T,0.5*((mean_vector_1+mean_vector_0).reshape(n_features,1))).flatten()[0]\n",
    "    return w,c"
   ]
  },
  {
   "cell_type": "markdown",
   "metadata": {},
   "source": [
    "Naive Bayes Classifier"
   ]
  },
  {
   "cell_type": "code",
   "execution_count": 7,
   "metadata": {
    "collapsed": false
   },
   "outputs": [],
   "source": [
    "def naive_bayes_classifier(X,n_class_0,n_class_1,n_features):\n",
    "    mean_vector_0 = []\n",
    "    mean_vector_1 = []\n",
    "    for i in range(0,n_features):\n",
    "        mean_vector_0.append(np.mean(X[0:n_class_0:,i]))\n",
    "        mean_vector_1.append(np.mean(X[n_class_0:,i]))\n",
    "    mean_vector_0 = np.array(mean_vector_0)\n",
    "    mean_vector_1 = np.array(mean_vector_1)\n",
    "    \n",
    "    mean_vector = np.array([0.0]*n_features, dtype = np.longdouble) #overall\n",
    "    for i in range(0,n_features):\n",
    "        mean_vector[i] = (np.mean(X[:,i]))\n",
    "    variance_vector = np.array([0.0]*n_features, dtype = np.longdouble)\n",
    "    \n",
    "    variance_vector = np.var(X,axis=0)\n",
    "    \n",
    "    for i in range(0,n_features):\n",
    "        #var = (np.mean((X_train_01[:,i]-mean_vector[i])**2))\n",
    "        if variance_vector[i] == 0.0:\n",
    "            variance_vector[i] = 2.36933947*(10**-30)\n",
    "        #variance_vector[i] = var\n",
    "\n",
    "    #prior\n",
    "    #for class 0\n",
    "    pi = n_class_0/((n_class_0+n_class_1)*1.0)\n",
    "    #print \"Pi : \"+str(pi)\n",
    "    #for class 1 : 1-pi\n",
    "    w_0 = math.log((1-pi)/pi)\n",
    "    #print str(w_0) + \"first\"\n",
    "    for i in range(0,n_features):\n",
    "        w_0 += ((mean_vector_1[i]**2) - (mean_vector_0[i]**2))/(2*variance_vector[i])\n",
    "        \n",
    "    w = [0 for i in range(0,n_features)]\n",
    "    for i in range(0,n_features):\n",
    "        w[i] = (mean_vector_0[i] - mean_vector_1[i])/variance_vector[i]\n",
    "    w = np.array(w).reshape(n_features,1)\n",
    "    w.reshape(n_features,1)\n",
    "    #print \"variance 0: \"+str(variance_vector_0[:40])\n",
    "    #print \"variance 1: \"+str(variance_vector_1[:40])\n",
    "    #print \"variance :\"+str(variance_vector[:40])\n",
    "    #print \"W 0: \"+str(w_0)\n",
    "    #print \"W :\"+str(w[:40])\n",
    "    #print w.shape\n",
    "    return w_0,w"
   ]
  },
  {
   "cell_type": "markdown",
   "metadata": {},
   "source": [
    "Regularisation pipelines that measure accuracy on the validation set to tune the number of components to be present in the compressed data passed to the classifier for the best accuracy at the cost of increasing components."
   ]
  },
  {
   "cell_type": "code",
   "execution_count": 50,
   "metadata": {
    "collapsed": false
   },
   "outputs": [],
   "source": [
    "def train_regulariser_lda(X_train,X_val,y_val,n_class_0,n_class_1):\n",
    "    #617 non zero variance features - so check from 0 to 617 components\n",
    "    accuracy_lda = []\n",
    "    for n_comp in range(1,300):\n",
    "        #X_train_trans = my_pca(X_train,n_comp)\n",
    "        #X_val_trans = my_pca(X_val,n_comp)\n",
    "        eig_pairs,w_lda,X_train_trans = my_lda_compressor(X_train,n_class_0,n_class_1,n_comp)\n",
    "        X_val_trans = (w_lda.T.dot(X_val.T)).T\n",
    "        \n",
    "        w,c = lda_classifier(X_train_trans,n_class_0,n_class_1,n_comp)\n",
    "        #print w\n",
    "        #print c\n",
    "        acc = 0.0\n",
    "        for i in range(0,len(X_val_trans)):\n",
    "            pred = np.dot(w.T,X_val_trans[i].reshape(n_comp,1)).flatten()[0]\n",
    "            #print pred\n",
    "            if pred > c:\n",
    "                pred = 1.0\n",
    "            else:\n",
    "                pred = 0.0\n",
    "            if pred == y_val[i]:\n",
    "                acc  += 1\n",
    "        print \"Components: \" + str(n_comp)+\" Accuracy: \"+str(acc/len(X_val_trans))\n",
    "        accuracy_lda.append(acc/len(X_val_trans))\n",
    "    return accuracy_lda"
   ]
  },
  {
   "cell_type": "code",
   "execution_count": 9,
   "metadata": {
    "collapsed": true
   },
   "outputs": [],
   "source": [
    "def train_regulariser_nb(X_train,X_val,y_val,n_class_0,n_class_1):\n",
    "    accuracy_nb = []\n",
    "    for n_comp in range(1,300):\n",
    "        #X_train_trans = my_pca(X_train,n_comp)\n",
    "        #X_val_trans = my_pca(X_val,n_comp)\n",
    "        sklearn_pca = sklearnPCA(n_components=n_comp)\n",
    "        sklearn_pca.fit(X_train)\n",
    "        X_train_trans = sklearn_pca.transform(X_train)\n",
    "        X_val_trans = sklearn_pca.transform(X_val)\n",
    "        w_0,w = naive_bayes_classifier(X_train_trans,n_class_0,n_class_1,n_comp)\n",
    "        acc = 0.0\n",
    "        for i in range(0,len(X_val_trans)):\n",
    "            #print np.dot(w.T,X_val_trans[i].reshape(n_comp,1)).shape\n",
    "            #print np.dot(w.T,X_val_trans[i].reshape(n_comp,1)).flatten()[0] + w_0\n",
    "            #print str(i) + \": \" + str(np.dot(w.T,X_val_trans[i].reshape(n_comp,1)).flatten()[0] + w_0)\n",
    "            try:\n",
    "                pred = math.exp(np.dot(w.T,X_val_trans[i].reshape(n_comp,1)).flatten()[0] + w_0)\n",
    "            except Exception:\n",
    "                print \"Exception\"\n",
    "                continue\n",
    "            if pred > 1:\n",
    "                pred = 0.0\n",
    "            else:\n",
    "                pred = 1.0\n",
    "            if pred == y_val[i]:\n",
    "                acc  += 1\n",
    "        print \"Components: \" + str(n_comp)+\" Accuracy: \"+str(acc/(len(X_val_trans)-1))\n",
    "        accuracy_nb.append(acc/(len(X_val_trans)-1))\n",
    "    return accuracy_nb"
   ]
  },
  {
   "cell_type": "markdown",
   "metadata": {},
   "source": [
    "Function to plot confusion matrix"
   ]
  },
  {
   "cell_type": "code",
   "execution_count": 10,
   "metadata": {
    "collapsed": true
   },
   "outputs": [],
   "source": [
    "def plot_confusion_matrix(cm, classes,\n",
    "                          normalize=False,\n",
    "                          title='Confusion matrix',\n",
    "                          cmap=plt.cm.Blues):\n",
    "    \"\"\"\n",
    "    This function prints and plots the confusion matrix.\n",
    "    Normalization can be applied by setting `normalize=True`.\n",
    "    \"\"\"\n",
    "    plt.imshow(cm, interpolation='nearest', cmap=cmap)\n",
    "    plt.title(title)\n",
    "    plt.colorbar()\n",
    "    tick_marks = np.arange(len(classes))\n",
    "    plt.xticks(tick_marks, classes, rotation=45)\n",
    "    plt.yticks(tick_marks, classes)\n",
    "\n",
    "    if normalize:\n",
    "        cm = cm.astype('float') / cm.sum(axis=1)[:, np.newaxis]\n",
    "        print(\"Normalized confusion matrix\")\n",
    "    else:\n",
    "        print('Confusion matrix, without normalization')\n",
    "\n",
    "    print(cm)\n",
    "\n",
    "    thresh = cm.max() / 2.\n",
    "    for i, j in itertools.product(range(cm.shape[0]), range(cm.shape[1])):\n",
    "        plt.text(j, i, cm[i, j],\n",
    "                 horizontalalignment=\"center\",\n",
    "                 color=\"white\" if cm[i, j] > thresh else \"black\")\n",
    "\n",
    "    plt.tight_layout()\n",
    "    plt.ylabel('True label')\n",
    "    plt.xlabel('Predicted label')"
   ]
  },
  {
   "cell_type": "markdown",
   "metadata": {},
   "source": [
    "The training, validation and test sets are built. Validation set is used for regularisation to tune the number of components in the compressed data passed to the classifier. In implementing the compression algorithms the whole training set is used."
   ]
  },
  {
   "cell_type": "code",
   "execution_count": 11,
   "metadata": {
    "collapsed": true
   },
   "outputs": [],
   "source": [
    "#building the train and val and test sets\n",
    "\n",
    "X_train_0 = []\n",
    "y_train_0 = []\n",
    "X_train_1 = []\n",
    "y_train_1 = []\n",
    "for i in range(0,len(mnist_train_df)):\n",
    "    if mnist_train_df.at[i,'Class'] in [0,1]:\n",
    "        vec = mnist_train_df.iloc[[i]].values.flatten().tolist()\n",
    "        if vec[-1] == 0.0:\n",
    "            X_train_0.append(vec[:-1])\n",
    "            y_train_0.append(vec[-1])\n",
    "        else:\n",
    "            if vec[-1] == 1.0:\n",
    "                X_train_1.append(vec[:-1])\n",
    "                y_train_1.append(vec[-1])\n",
    "                \n",
    "                \n",
    "X_train_0 = np.array(X_train_0)\n",
    "X_train_1 = np.array(X_train_1)\n",
    "y_train_0 = np.array(y_train_0)\n",
    "y_train_1 = np.array(y_train_1)\n",
    "\n",
    "X_train_01 = np.append(X_train_0[0:len(X_train_0)*7/10],X_train_1[0:len(X_train_1)*7/10],axis=0)\n",
    "y_train_01 = np.append(y_train_0[0:len(X_train_0)*7/10],y_train_1[0:len(y_train_1)*7/10],axis=0)\n",
    "\n",
    "X_val_01 = np.append(X_train_0[len(X_train_0)*7/10:],X_train_1[len(X_train_1)*7/10:],axis=0)\n",
    "y_val_01 = np.append(y_train_0[len(X_train_0)*7/10:],y_train_1[len(X_train_1)*7/10:],axis=0)\n",
    "\n",
    "X_test_01 = []\n",
    "y_test_01 = []\n",
    "for i in range(0,len(mnist_test_df)):\n",
    "    if mnist_test_df.at[i,'Class'] in [0,1]:\n",
    "        vec = mnist_test_df.iloc[[i]].values.flatten().tolist()\n",
    "        X_test_01.append(vec[:-1])\n",
    "        y_test_01.append(vec[-1])\n",
    "X_test_01 = np.array(X_test_01)      "
   ]
  },
  {
   "cell_type": "markdown",
   "metadata": {},
   "source": [
    "PCA : The PCA function implemented above is used for compressing the data.\n",
    "The most important eigenvector and the 20th eigenvector are constructed below."
   ]
  },
  {
   "cell_type": "code",
   "execution_count": 27,
   "metadata": {
    "collapsed": true
   },
   "outputs": [],
   "source": [
    "eig_pairs_pca,matrix_w,X_train_01_pca = my_pca(np.append(X_train_0,X_train_1,axis=0),200)"
   ]
  },
  {
   "cell_type": "code",
   "execution_count": 13,
   "metadata": {
    "collapsed": false
   },
   "outputs": [
    {
     "data": {
      "image/png": "[encoded data removed]",
      "text/plain": [
       "<matplotlib.figure.Figure at 0x1164d2b90>"
      ]
     },
     "metadata": {},
     "output_type": "display_data"
    }
   ],
   "source": [
    "#first eigen vector\n",
    "\n",
    "plt.figure(figsize=(5,5))\n",
    "plt.imshow(matrix_w.T[0].reshape((28, 28)).T, cmap='gray', interpolation='nearest')\n",
    "plt.axis(\"off\")\n",
    "plt.show()"
   ]
  },
  {
   "cell_type": "code",
   "execution_count": 14,
   "metadata": {
    "collapsed": false
   },
   "outputs": [
    {
     "data": {
      "image/png": "[encoded data removed]",
      "text/plain": [
       "<matplotlib.figure.Figure at 0x10c1d3d50>"
      ]
     },
     "metadata": {},
     "output_type": "display_data"
    }
   ],
   "source": [
    "#20th eigen vector\n",
    "\n",
    "plt.figure(figsize=(5,5))\n",
    "plt.imshow(matrix_w.T[19].reshape((28, 28)).T, cmap='gray', interpolation='nearest')\n",
    "plt.axis(\"off\")\n",
    "plt.show()"
   ]
  },
  {
   "cell_type": "markdown",
   "metadata": {},
   "source": [
    "LDA : The LDA compressor function implemented above is used for compressing the data. In LDA, there is a transformation matrix for each class.\n",
    "The most important eigenvector and the 20th eigenvector are constructed below."
   ]
  },
  {
   "cell_type": "code",
   "execution_count": 101,
   "metadata": {
    "collapsed": false
   },
   "outputs": [],
   "source": [
    "eig_pairs_lda,w_lda,X_lda_trans = my_lda_compressor(np.append(X_train_0,X_train_1,axis=0),len(X_train_0),len(X_train_1),200)"
   ]
  },
  {
   "cell_type": "code",
   "execution_count": 54,
   "metadata": {
    "collapsed": false
   },
   "outputs": [
    {
     "data": {
      "image/png": "[encoded data removed]",
      "text/plain": [
       "<matplotlib.figure.Figure at 0x11f863110>"
      ]
     },
     "metadata": {},
     "output_type": "display_data"
    }
   ],
   "source": [
    "plt.figure(figsize=(5,5))\n",
    "plt.subplot(1, 2, 1)\n",
    "plt.imshow(w_lda.T[0].reshape((28, 28)).T, cmap='gray', interpolation='nearest')\n",
    "plt.title(\"First eigen vector\")\n",
    "plt.axis(\"off\")\n",
    "plt.subplot(1,2,2)\n",
    "plt.imshow(w_lda.T[19].reshape((28, 28)).T, cmap='gray', interpolation='nearest')\n",
    "plt.title(\"20th eigen vector\")\n",
    "plt.axis(\"off\")\n",
    "plt.show()"
   ]
  },
  {
   "cell_type": "markdown",
   "metadata": {},
   "source": [
    "PCA : Plot of cumulative sum of eigen values(divided by total). We can see that the plot plateaus at and thus it is sufficient to retain eigenvalues for compression."
   ]
  },
  {
   "cell_type": "code",
   "execution_count": 28,
   "metadata": {
    "collapsed": false
   },
   "outputs": [],
   "source": [
    "cum_eig_val = []\n",
    "sum_eig = 0.0\n",
    "for i in range(0,len(eig_pairs_pca)):\n",
    "    sum_eig += eig_pairs_pca[i][0]\n",
    "    cum_eig_val.append(sum_eig)\n",
    "cum_eig_val = np.array(cum_eig_val)\n",
    "cum_eig_val = cum_eig_val / sum_eig"
   ]
  },
  {
   "cell_type": "code",
   "execution_count": 102,
   "metadata": {
    "collapsed": false
   },
   "outputs": [
    {
     "data": {
      "image/png": "[encoded data removed]",
      "text/plain": [
       "<matplotlib.figure.Figure at 0x116fc72d0>"
      ]
     },
     "metadata": {},
     "output_type": "display_data"
    }
   ],
   "source": [
    "plt.plot([x for x in range(0,len(eig_pairs_pca))],cum_eig_val)\n",
    "plt.ylabel(\"Cumulative sum eigen values/Total\")\n",
    "plt.xlabel(\"Eigen values\")\n",
    "#plt.axis(\"off\")\n",
    "plt.show()"
   ]
  },
  {
   "cell_type": "code",
   "execution_count": 103,
   "metadata": {
    "collapsed": false
   },
   "outputs": [
    {
     "data": {
      "image/png": "[encoded data removed]",
      "text/plain": [
       "<matplotlib.figure.Figure at 0x118520610>"
      ]
     },
     "metadata": {},
     "output_type": "display_data"
    }
   ],
   "source": [
    "plt.plot([x for x in range(0,50)], cum_eig_val[0:50])\n",
    "plt.ylabel(\"Cumulative sum eigen values/Total\")\n",
    "plt.xlabel(\"Eigen values\")\n",
    "plt.title(\"Zoomed\")\n",
    "#plt.axis(\"off\")\n",
    "plt.show()"
   ]
  },
  {
   "cell_type": "markdown",
   "metadata": {},
   "source": [
    "We can see that right from around 30 eigen values, the slope isn't changing too much and it tapers towards a plateau. Since 30 components hold 90% of the information, it should be enough to get an accurate reconstuction at the cost of including more components."
   ]
  },
  {
   "cell_type": "markdown",
   "metadata": {},
   "source": [
    "LDA : Plot of cumulative sum of eigen values(divided by total). We can see that the classwise plots below. Both plots seem to plateau at and thus it is sufficient to retain eigenvalues for compression."
   ]
  },
  {
   "cell_type": "code",
   "execution_count": 34,
   "metadata": {
    "collapsed": true
   },
   "outputs": [],
   "source": [
    "cum_eig_val_lda = []\n",
    "\n",
    "sum_eig = 0.0\n",
    "for i in range(0,len(eig_pairs_lda)):\n",
    "    sum_eig += eig_pairs_lda[i][0]\n",
    "    cum_eig_val_lda.append(sum_eig)\n",
    "cum_eig_val_lda = np.array(cum_eig_val_lda)\n",
    "cum_eig_val_lda = cum_eig_val_lda / sum_eig\n"
   ]
  },
  {
   "cell_type": "code",
   "execution_count": 115,
   "metadata": {
    "collapsed": false
   },
   "outputs": [
    {
     "data": {
      "image/png": "[encoded data removed]",
      "text/plain": [
       "<matplotlib.figure.Figure at 0x1185a0650>"
      ]
     },
     "metadata": {},
     "output_type": "display_data"
    }
   ],
   "source": [
    "#plt.figure(figsize=(,10))\n",
    "plt.subplot(1, 3, 1)\n",
    "plt.plot([x for x in range(0,len(cum_eig_val_lda))],cum_eig_val_lda)\n",
    "plt.ylabel(\"Cumulative sum eigen values/Total\")\n",
    "plt.xlabel(\"Eigen values\")\n",
    "plt.subplot(1, 3, 3)\n",
    "plt.plot([x for x in range(0,50)],cum_eig_val_lda[0:50])\n",
    "plt.ylabel(\"Cumulative sum eigen values/Total\")\n",
    "plt.xlabel(\"Eigen values\")\n",
    "plt.title(\"Zooomed\")\n",
    "#plt.axis(\"off\")\n",
    "plt.show()"
   ]
  },
  {
   "cell_type": "markdown",
   "metadata": {},
   "source": [
    "Here too, we can see that right from around 30 eigen values, the slope isn't changing too much and it tapers towards a plateau. So 30 components should be enough to get an accurate reconstuction at the cost of including more components."
   ]
  },
  {
   "cell_type": "markdown",
   "metadata": {},
   "source": [
    "PCA : Based on the graph, we pick 30 components to do a reconstruction of a test example randomly chosen which is a zero. The left image shows the original and the right two images show the reconstruction with 30 components and the reconstruction error in terms of difference."
   ]
  },
  {
   "cell_type": "code",
   "execution_count": 106,
   "metadata": {
    "collapsed": true
   },
   "outputs": [],
   "source": [
    "eig_pairs,matrix_w,X_train_01_pca = my_pca(np.append(X_train_0,X_train_1,axis=0),30)\n",
    "#Reconstruction\n",
    "mean = np.mean(X_train_01,axis=0)\n",
    "f1 = np.matrix(X_test_01[10])\n",
    "d = (f1-mean).dot(matrix_w)\n",
    "wi = np.linalg.pinv(matrix_w)\n",
    "f2 = d.dot(matrix_w.T) + mean\n",
    "#print f2.shape"
   ]
  },
  {
   "cell_type": "code",
   "execution_count": 107,
   "metadata": {
    "collapsed": false
   },
   "outputs": [
    {
     "data": {
      "image/png": "[encoded data removed]",
      "text/plain": [
       "<matplotlib.figure.Figure at 0x11850efd0>"
      ]
     },
     "metadata": {},
     "output_type": "display_data"
    }
   ],
   "source": [
    "plt.figure(figsize=(5,5))\n",
    "plt.subplot(1, 3, 1)\n",
    "plt.imshow(X_test_01[10].reshape((28, 28)).T, cmap='gray', interpolation='nearest')\n",
    "plt.title(\"Original\")\n",
    "plt.axis(\"off\")\n",
    "plt.subplot(1, 3, 2)\n",
    "plt.imshow(f2[0].reshape((28, 28)).T, cmap='gray', interpolation='nearest')\n",
    "plt.title(\"Reconstructed\")\n",
    "plt.axis(\"off\")\n",
    "plt.subplot(1, 3, 3)\n",
    "diff = normalize(np.array(X_test_01[10], dtype=pd.Series) - f2, axis=1).ravel()\n",
    "plt.imshow(diff.reshape((28, 28)).T, cmap='gray_r', interpolation='nearest'); \n",
    "plt.title(\"Difference\")\n",
    "plt.axis(\"off\")\n",
    "plt.show()"
   ]
  },
  {
   "cell_type": "markdown",
   "metadata": {},
   "source": [
    "LDA : Based on the graph, we pick 30 components to do a reconstruction of a test example randomly chosen which is a zero. The left image shows the original and the right two images show the reconstruction with 30 components and the reconstruction error in terms of difference."
   ]
  },
  {
   "cell_type": "code",
   "execution_count": 108,
   "metadata": {
    "collapsed": true
   },
   "outputs": [],
   "source": [
    "eig_pairs,w_lda,X_lda_trans = my_lda_compressor(np.append(X_train_0,X_train_1,axis=0),len(X_train_0),len(X_train_1),30)"
   ]
  },
  {
   "cell_type": "code",
   "execution_count": 109,
   "metadata": {
    "collapsed": false
   },
   "outputs": [
    {
     "data": {
      "image/png": "[encoded data removed]",
      "text/plain": [
       "<matplotlib.figure.Figure at 0x1170f2350>"
      ]
     },
     "metadata": {},
     "output_type": "display_data"
    }
   ],
   "source": [
    "mean = np.mean(np.append(X_train_0,X_train_1,axis=0),axis=0)\n",
    "f_0 = np.matrix(X_test_01[10])\n",
    "d = (f_0-mean).dot(w_lda)\n",
    "wi = np.linalg.pinv(w_lda)\n",
    "f_0 = d.dot(w_lda.T) + mean\n",
    "plt.figure(figsize=(5,5))\n",
    "plt.subplot(1, 3, 1)\n",
    "plt.imshow(X_test_01[10].reshape((28, 28)).T, cmap='gray', interpolation='nearest')\n",
    "plt.title(\"Original\")\n",
    "plt.axis(\"off\")\n",
    "plt.subplot(1, 3, 2)\n",
    "plt.imshow(f_0[0].reshape((28, 28)).T, cmap='gray', interpolation='nearest')\n",
    "plt.title(\"Reconstructed\")\n",
    "plt.axis(\"off\")\n",
    "plt.subplot(1, 3, 3)\n",
    "diff = normalize(np.array(X_test_01[10], dtype=pd.Series) - f_0, axis=1).ravel()\n",
    "plt.imshow(diff.reshape((28, 28)).T, cmap='gray_r', interpolation='nearest'); \n",
    "plt.title(\"Difference\")\n",
    "plt.axis(\"off\")\n",
    "plt.show()"
   ]
  },
  {
   "cell_type": "markdown",
   "metadata": {},
   "source": [
    "We train the lda classifier on 70% of the training data, using the remaining to tune the number of compinents that the lda compressor should compress to and look at the accuracy for 1-300 components to figure out an affordable accuracy at the tradeoff of having more components.\n",
    "\n",
    "First a sanity check with all 784 components by comparing my implementation accuracy results to the scikit learn library's."
   ]
  },
  {
   "cell_type": "code",
   "execution_count": 75,
   "metadata": {
    "collapsed": false
   },
   "outputs": [
    {
     "name": "stdout",
     "output_type": "stream",
     "text": [
      "Components: 784 Accuracy: 0.993684210526\n"
     ]
    }
   ],
   "source": [
    "#comparison with library\n",
    "eig_pairs,w_lda,X_train_trans = my_lda_compressor(X_train_01,len(X_train_0)*7/10,len(X_train_1)*7/10,784)\n",
    "X_val_trans = (w_lda.T.dot(X_val_01.T)).T\n",
    "        \n",
    "w,c = lda_classifier(X_train_trans,len(X_train_0)*7/10,len(X_train_1)*7/10,784)\n",
    "        #print w\n",
    "        #print c\n",
    "        \n",
    "\n",
    "acc = 0.0\n",
    "for i in range(0,len(X_val_trans)):\n",
    "    pred = np.dot(w.T,X_val_trans[i].reshape(784,1)).flatten()[0]\n",
    "    #print pred\n",
    "    if pred > c:\n",
    "        pred = 1.0\n",
    "    else:\n",
    "        pred = 0.0\n",
    "    if pred == y_val_01[i]:\n",
    "        acc  += 1\n",
    "print \"Components: \" + str(784)+\" Accuracy: \"+str(acc/len(X_val_trans))"
   ]
  },
  {
   "cell_type": "code",
   "execution_count": 76,
   "metadata": {
    "collapsed": false
   },
   "outputs": [
    {
     "name": "stdout",
     "output_type": "stream",
     "text": [
      "0.993947368421\n"
     ]
    }
   ],
   "source": [
    "score_clf2 = 0.0\n",
    "clf2 = LinearDiscriminantAnalysis(solver='lsqr', shrinkage=None).fit(X_train_01, y_train_01)\n",
    "score_clf2 = clf2.score(X_val_01, y_val_01)\n",
    "print score_clf2"
   ]
  },
  {
   "cell_type": "markdown",
   "metadata": {},
   "source": [
    "The accuracies match fairly well and hence the implementation is good to proceed with."
   ]
  },
  {
   "cell_type": "code",
   "execution_count": 59,
   "metadata": {
    "collapsed": false,
    "scrolled": true
   },
   "outputs": [
    {
     "name": "stdout",
     "output_type": "stream",
     "text": [
      "Components: 1 Accuracy: 0.968421052632\n",
      "Components: 2 Accuracy: 0.993157894737\n",
      "Components: 3 Accuracy: 0.993157894737\n",
      "Components: 4 Accuracy: 0.993157894737\n",
      "Components: 5 Accuracy: 0.993157894737\n",
      "Components: 6 Accuracy: 0.993157894737\n",
      "Components: 7 Accuracy: 0.993157894737\n",
      "Components: 8 Accuracy: 0.992894736842\n",
      "Components: 9 Accuracy: 0.992894736842\n",
      "Components: 10 Accuracy: 0.992894736842\n",
      "Components: 11 Accuracy: 0.992894736842\n",
      "Components: 12 Accuracy: 0.992894736842\n",
      "Components: 13 Accuracy: 0.993157894737\n",
      "Components: 14 Accuracy: 0.993421052632\n",
      "Components: 15 Accuracy: 0.993421052632\n",
      "Components: 16 Accuracy: 0.993421052632\n",
      "Components: 17 Accuracy: 0.993684210526\n",
      "Components: 18 Accuracy: 0.993947368421\n",
      "Components: 19 Accuracy: 0.993684210526\n",
      "Components: 20 Accuracy: 0.993684210526\n",
      "Components: 21 Accuracy: 0.993684210526\n",
      "Components: 22 Accuracy: 0.993684210526\n",
      "Components: 23 Accuracy: 0.993684210526\n",
      "Components: 24 Accuracy: 0.993947368421\n",
      "Components: 25 Accuracy: 0.993947368421\n",
      "Components: 26 Accuracy: 0.993947368421\n",
      "Components: 27 Accuracy: 0.993947368421\n",
      "Components: 28 Accuracy: 0.993947368421\n",
      "Components: 29 Accuracy: 0.993947368421\n",
      "Components: 30 Accuracy: 0.993947368421\n",
      "Components: 31 Accuracy: 0.993947368421\n",
      "Components: 32 Accuracy: 0.993947368421\n",
      "Components: 33 Accuracy: 0.993947368421\n",
      "Components: 34 Accuracy: 0.993947368421\n",
      "Components: 35 Accuracy: 0.993947368421\n",
      "Components: 36 Accuracy: 0.993947368421\n",
      "Components: 37 Accuracy: 0.993947368421\n",
      "Components: 38 Accuracy: 0.993947368421\n",
      "Components: 39 Accuracy: 0.993947368421\n",
      "Components: 40 Accuracy: 0.993947368421\n",
      "Components: 41 Accuracy: 0.993947368421\n",
      "Components: 42 Accuracy: 0.993947368421\n",
      "Components: 43 Accuracy: 0.993947368421\n",
      "Components: 44 Accuracy: 0.994210526316\n",
      "Components: 45 Accuracy: 0.994736842105\n",
      "Components: 46 Accuracy: 0.994736842105\n",
      "Components: 47 Accuracy: 0.994736842105\n",
      "Components: 48 Accuracy: 0.994736842105\n",
      "Components: 49 Accuracy: 0.994736842105\n",
      "Components: 50 Accuracy: 0.994736842105\n",
      "Components: 51 Accuracy: 0.994736842105\n",
      "Components: 52 Accuracy: 0.994736842105\n",
      "Components: 53 Accuracy: 0.994736842105\n",
      "Components: 54 Accuracy: 0.994736842105\n",
      "Components: 55 Accuracy: 0.994736842105\n",
      "Components: 56 Accuracy: 0.994736842105\n",
      "Components: 57 Accuracy: 0.994736842105\n",
      "Components: 58 Accuracy: 0.994210526316\n",
      "Components: 59 Accuracy: 0.994210526316\n",
      "Components: 60 Accuracy: 0.994210526316\n",
      "Components: 61 Accuracy: 0.994210526316\n",
      "Components: 62 Accuracy: 0.994210526316\n",
      "Components: 63 Accuracy: 0.994210526316\n",
      "Components: 64 Accuracy: 0.994210526316\n",
      "Components: 65 Accuracy: 0.994210526316\n",
      "Components: 66 Accuracy: 0.994210526316\n",
      "Components: 67 Accuracy: 0.994210526316\n",
      "Components: 68 Accuracy: 0.994210526316\n",
      "Components: 69 Accuracy: 0.994210526316\n",
      "Components: 70 Accuracy: 0.994210526316\n",
      "Components: 71 Accuracy: 0.994210526316\n",
      "Components: 72 Accuracy: 0.994210526316\n",
      "Components: 73 Accuracy: 0.994210526316\n",
      "Components: 74 Accuracy: 0.994210526316\n",
      "Components: 75 Accuracy: 0.994210526316\n",
      "Components: 76 Accuracy: 0.994210526316\n",
      "Components: 77 Accuracy: 0.994210526316\n",
      "Components: 78 Accuracy: 0.994210526316\n",
      "Components: 79 Accuracy: 0.994210526316\n",
      "Components: 80 Accuracy: 0.994210526316\n",
      "Components: 81 Accuracy: 0.994210526316\n",
      "Components: 82 Accuracy: 0.994210526316\n",
      "Components: 83 Accuracy: 0.994210526316\n",
      "Components: 84 Accuracy: 0.994210526316\n",
      "Components: 85 Accuracy: 0.994210526316\n",
      "Components: 86 Accuracy: 0.994210526316\n",
      "Components: 87 Accuracy: 0.994210526316\n",
      "Components: 88 Accuracy: 0.994210526316\n",
      "Components: 89 Accuracy: 0.994210526316\n",
      "Components: 90 Accuracy: 0.994210526316\n",
      "Components: 91 Accuracy: 0.994210526316\n",
      "Components: 92 Accuracy: 0.994210526316\n",
      "Components: 93 Accuracy: 0.994210526316\n",
      "Components: 94 Accuracy: 0.994210526316\n",
      "Components: 95 Accuracy: 0.994210526316\n",
      "Components: 96 Accuracy: 0.994210526316\n",
      "Components: 97 Accuracy: 0.994210526316\n",
      "Components: 98 Accuracy: 0.994210526316\n",
      "Components: 99 Accuracy: 0.994210526316\n",
      "Components: 100 Accuracy: 0.994210526316\n",
      "Components: 101 Accuracy: 0.994473684211\n",
      "Components: 102 Accuracy: 0.994473684211\n",
      "Components: 103 Accuracy: 0.994473684211\n",
      "Components: 104 Accuracy: 0.994473684211\n",
      "Components: 105 Accuracy: 0.994473684211\n",
      "Components: 106 Accuracy: 0.994473684211\n",
      "Components: 107 Accuracy: 0.994210526316\n",
      "Components: 108 Accuracy: 0.994210526316\n",
      "Components: 109 Accuracy: 0.994210526316\n",
      "Components: 110 Accuracy: 0.994210526316\n",
      "Components: 111 Accuracy: 0.994210526316\n",
      "Components: 112 Accuracy: 0.994210526316\n",
      "Components: 113 Accuracy: 0.994210526316\n",
      "Components: 114 Accuracy: 0.994210526316\n",
      "Components: 115 Accuracy: 0.994210526316\n",
      "Components: 116 Accuracy: 0.994210526316\n",
      "Components: 117 Accuracy: 0.994210526316\n",
      "Components: 118 Accuracy: 0.994473684211\n",
      "Components: 119 Accuracy: 0.994473684211\n",
      "Components: 120 Accuracy: 0.994473684211\n",
      "Components: 121 Accuracy: 0.994473684211\n",
      "Components: 122 Accuracy: 0.994473684211\n",
      "Components: 123 Accuracy: 0.994210526316\n",
      "Components: 124 Accuracy: 0.994473684211\n",
      "Components: 125 Accuracy: 0.994210526316\n",
      "Components: 126 Accuracy: 0.994210526316\n",
      "Components: 127 Accuracy: 0.994473684211\n",
      "Components: 128 Accuracy: 0.994210526316\n",
      "Components: 129 Accuracy: 0.994210526316\n",
      "Components: 130 Accuracy: 0.994210526316\n",
      "Components: 131 Accuracy: 0.994210526316\n",
      "Components: 132 Accuracy: 0.994210526316\n",
      "Components: 133 Accuracy: 0.994210526316\n",
      "Components: 134 Accuracy: 0.994210526316\n",
      "Components: 135 Accuracy: 0.994210526316\n",
      "Components: 136 Accuracy: 0.994210526316\n",
      "Components: 137 Accuracy: 0.994210526316\n",
      "Components: 138 Accuracy: 0.994210526316\n",
      "Components: 139 Accuracy: 0.994210526316\n",
      "Components: 140 Accuracy: 0.994210526316\n",
      "Components: 141 Accuracy: 0.994210526316\n",
      "Components: 142 Accuracy: 0.994210526316\n",
      "Components: 143 Accuracy: 0.994210526316\n",
      "Components: 144 Accuracy: 0.994210526316\n",
      "Components: 145 Accuracy: 0.994210526316\n",
      "Components: 146 Accuracy: 0.994210526316\n",
      "Components: 147 Accuracy: 0.994210526316\n",
      "Components: 148 Accuracy: 0.994210526316\n",
      "Components: 149 Accuracy: 0.994210526316\n",
      "Components: 150 Accuracy: 0.994210526316\n",
      "Components: 151 Accuracy: 0.994210526316\n",
      "Components: 152 Accuracy: 0.994210526316\n",
      "Components: 153 Accuracy: 0.994210526316\n",
      "Components: 154 Accuracy: 0.994210526316\n",
      "Components: 155 Accuracy: 0.994210526316\n",
      "Components: 156 Accuracy: 0.994210526316\n",
      "Components: 157 Accuracy: 0.994210526316\n",
      "Components: 158 Accuracy: 0.994210526316\n",
      "Components: 159 Accuracy: 0.994210526316\n",
      "Components: 160 Accuracy: 0.994210526316\n",
      "Components: 161 Accuracy: 0.994210526316\n",
      "Components: 162 Accuracy: 0.994210526316\n",
      "Components: 163 Accuracy: 0.994210526316\n",
      "Components: 164 Accuracy: 0.994210526316\n",
      "Components: 165 Accuracy: 0.994210526316\n",
      "Components: 166 Accuracy: 0.994210526316\n",
      "Components: 167 Accuracy: 0.994210526316\n",
      "Components: 168 Accuracy: 0.994210526316\n",
      "Components: 169 Accuracy: 0.994210526316\n",
      "Components: 170 Accuracy: 0.994210526316\n",
      "Components: 171 Accuracy: 0.994210526316\n",
      "Components: 172 Accuracy: 0.994210526316\n",
      "Components: 173 Accuracy: 0.994210526316\n",
      "Components: 174 Accuracy: 0.994210526316\n",
      "Components: 175 Accuracy: 0.994210526316\n",
      "Components: 176 Accuracy: 0.994210526316\n",
      "Components: 177 Accuracy: 0.994210526316\n",
      "Components: 178 Accuracy: 0.994210526316\n",
      "Components: 179 Accuracy: 0.994210526316\n",
      "Components: 180 Accuracy: 0.994210526316\n",
      "Components: 181 Accuracy: 0.994210526316\n",
      "Components: 182 Accuracy: 0.994210526316\n",
      "Components: 183 Accuracy: 0.994210526316\n",
      "Components: 184 Accuracy: 0.994210526316\n",
      "Components: 185 Accuracy: 0.994210526316\n",
      "Components: 186 Accuracy: 0.994210526316\n",
      "Components: 187 Accuracy: 0.994210526316\n",
      "Components: 188 Accuracy: 0.994210526316\n",
      "Components: 189 Accuracy: 0.994210526316\n",
      "Components: 190 Accuracy: 0.994210526316\n",
      "Components: 191 Accuracy: 0.994210526316\n",
      "Components: 192 Accuracy: 0.994210526316\n",
      "Components: 193 Accuracy: 0.994210526316\n",
      "Components: 194 Accuracy: 0.994210526316\n",
      "Components: 195 Accuracy: 0.994210526316\n",
      "Components: 196 Accuracy: 0.994210526316\n",
      "Components: 197 Accuracy: 0.994210526316\n",
      "Components: 198 Accuracy: 0.994210526316\n",
      "Components: 199 Accuracy: 0.994210526316\n",
      "Components: 200 Accuracy: 0.994210526316\n",
      "Components: 201 Accuracy: 0.994210526316\n",
      "Components: 202 Accuracy: 0.994210526316\n",
      "Components: 203 Accuracy: 0.994210526316\n",
      "Components: 204 Accuracy: 0.994210526316\n",
      "Components: 205 Accuracy: 0.994210526316\n",
      "Components: 206 Accuracy: 0.994210526316\n",
      "Components: 207 Accuracy: 0.994210526316\n",
      "Components: 208 Accuracy: 0.994210526316\n",
      "Components: 209 Accuracy: 0.994210526316\n",
      "Components: 210 Accuracy: 0.994210526316\n",
      "Components: 211 Accuracy: 0.994210526316\n",
      "Components: 212 Accuracy: 0.994210526316\n",
      "Components: 213 Accuracy: 0.994210526316\n",
      "Components: 214 Accuracy: 0.994210526316\n",
      "Components: 215 Accuracy: 0.994210526316\n",
      "Components: 216 Accuracy: 0.994210526316\n",
      "Components: 217 Accuracy: 0.994210526316\n",
      "Components: 218 Accuracy: 0.994210526316\n",
      "Components: 219 Accuracy: 0.994210526316\n",
      "Components: 220 Accuracy: 0.994210526316\n",
      "Components: 221 Accuracy: 0.994210526316\n",
      "Components: 222 Accuracy: 0.994210526316\n",
      "Components: 223 Accuracy: 0.994210526316\n",
      "Components: 224 Accuracy: 0.994210526316\n",
      "Components: 225 Accuracy: 0.994210526316\n",
      "Components: 226 Accuracy: 0.994210526316\n",
      "Components: 227 Accuracy: 0.994210526316\n",
      "Components: 228 Accuracy: 0.994210526316\n",
      "Components: 229 Accuracy: 0.994210526316\n",
      "Components: 230 Accuracy: 0.994210526316\n",
      "Components: 231 Accuracy: 0.994210526316\n",
      "Components: 232 Accuracy: 0.994210526316\n",
      "Components: 233 Accuracy: 0.994210526316\n",
      "Components: 234 Accuracy: 0.994210526316\n",
      "Components: 235 Accuracy: 0.994210526316\n",
      "Components: 236 Accuracy: 0.994210526316\n",
      "Components: 237 Accuracy: 0.994210526316\n",
      "Components: 238 Accuracy: 0.994210526316\n",
      "Components: 239 Accuracy: 0.994210526316\n",
      "Components: 240 Accuracy: 0.994210526316\n",
      "Components: 241 Accuracy: 0.994210526316\n",
      "Components: 242 Accuracy: 0.994210526316\n",
      "Components: 243 Accuracy: 0.994210526316\n",
      "Components: 244 Accuracy: 0.994210526316\n",
      "Components: 245 Accuracy: 0.994210526316\n",
      "Components: 246 Accuracy: 0.994210526316\n",
      "Components: 247 Accuracy: 0.994210526316\n",
      "Components: 248 Accuracy: 0.994210526316\n",
      "Components: 249 Accuracy: 0.994210526316\n",
      "Components: 250 Accuracy: 0.994210526316\n",
      "Components: 251 Accuracy: 0.994210526316\n",
      "Components: 252 Accuracy: 0.994210526316\n",
      "Components: 253 Accuracy: 0.994210526316\n",
      "Components: 254 Accuracy: 0.994210526316\n",
      "Components: 255 Accuracy: 0.994210526316\n",
      "Components: 256 Accuracy: 0.994210526316\n",
      "Components: 257 Accuracy: 0.994210526316\n",
      "Components: 258 Accuracy: 0.994210526316\n",
      "Components: 259 Accuracy: 0.994210526316\n",
      "Components: 260 Accuracy: 0.994210526316\n",
      "Components: 261 Accuracy: 0.994210526316\n",
      "Components: 262 Accuracy: 0.994210526316\n",
      "Components: 263 Accuracy: 0.994210526316\n",
      "Components: 264 Accuracy: 0.994210526316\n",
      "Components: 265 Accuracy: 0.994210526316\n",
      "Components: 266 Accuracy: 0.994210526316\n",
      "Components: 267 Accuracy: 0.994210526316\n",
      "Components: 268 Accuracy: 0.994210526316\n",
      "Components: 269 Accuracy: 0.994210526316\n",
      "Components: 270 Accuracy: 0.994210526316\n",
      "Components: 271 Accuracy: 0.994210526316\n",
      "Components: 272 Accuracy: 0.994210526316\n",
      "Components: 273 Accuracy: 0.994210526316\n",
      "Components: 274 Accuracy: 0.994210526316\n",
      "Components: 275 Accuracy: 0.994210526316\n",
      "Components: 276 Accuracy: 0.994210526316\n",
      "Components: 277 Accuracy: 0.994210526316\n",
      "Components: 278 Accuracy: 0.994210526316\n",
      "Components: 279 Accuracy: 0.994210526316\n",
      "Components: 280 Accuracy: 0.994210526316\n",
      "Components: 281 Accuracy: 0.994210526316\n",
      "Components: 282 Accuracy: 0.994210526316\n",
      "Components: 283 Accuracy: 0.994210526316\n",
      "Components: 284 Accuracy: 0.994210526316\n",
      "Components: 285 Accuracy: 0.994210526316\n",
      "Components: 286 Accuracy: 0.994210526316\n",
      "Components: 287 Accuracy: 0.994210526316\n",
      "Components: 288 Accuracy: 0.994210526316\n",
      "Components: 289 Accuracy: 0.994210526316\n",
      "Components: 290 Accuracy: 0.994210526316\n",
      "Components: 291 Accuracy: 0.994210526316\n",
      "Components: 292 Accuracy: 0.994210526316\n",
      "Components: 293 Accuracy: 0.993947368421\n",
      "Components: 294 Accuracy: 0.993947368421\n",
      "Components: 295 Accuracy: 0.993947368421\n",
      "Components: 296 Accuracy: 0.993947368421\n",
      "Components: 297 Accuracy: 0.993947368421\n",
      "Components: 298 Accuracy: 0.993947368421\n",
      "Components: 299 Accuracy: 0.993947368421\n"
     ]
    }
   ],
   "source": [
    "accuracy_lda = train_regulariser_lda(X_train_01,X_val_01,y_val_01,len(X_train_0)*7/10,len(X_train_1)*7/10)\n",
    "#accuracy_200 = train_regulariser_lda(X_train_01,X_val_01,y_val_01,len(X_train_0)*7/10,len(X_train_1)*7/10)"
   ]
  },
  {
   "cell_type": "code",
   "execution_count": 60,
   "metadata": {
    "collapsed": false
   },
   "outputs": [
    {
     "data": {
      "image/png": "[encoded data removed]",
      "text/plain": [
       "<matplotlib.figure.Figure at 0x118592210>"
      ]
     },
     "metadata": {},
     "output_type": "display_data"
    }
   ],
   "source": [
    "plt.plot([x for x in range(1,300)],accuracy_lda)\n",
    "plt.xlabel(\"Components\")\n",
    "plt.ylabel(\"Accuracy\")\n",
    "plt.show()"
   ]
  },
  {
   "cell_type": "code",
   "execution_count": 116,
   "metadata": {
    "collapsed": false
   },
   "outputs": [
    {
     "data": {
      "image/png": "[encoded data removed]",
      "text/plain": [
       "<matplotlib.figure.Figure at 0x11735a850>"
      ]
     },
     "metadata": {},
     "output_type": "display_data"
    }
   ],
   "source": [
    "plt.plot([x for x in range(1,61)],accuracy_lda[0:60])\n",
    "plt.xlabel(\"Components\")\n",
    "plt.ylabel(\"Accuracy\")\n",
    "plt.title(\"Zoomed\")\n",
    "plt.show()"
   ]
  },
  {
   "cell_type": "markdown",
   "metadata": {},
   "source": [
    "We can see that we have achieved a plateau at around 30 components and a good performance of around 99.395%. We can improve performance only slightly relative to the cost of adding more components in learning.\n",
    "\n",
    "Now, let's look at the performance of LDA on the test set with the 30 component representation derived from the LDA compressor."
   ]
  },
  {
   "cell_type": "code",
   "execution_count": 78,
   "metadata": {
    "collapsed": false
   },
   "outputs": [
    {
     "name": "stdout",
     "output_type": "stream",
     "text": [
      "LDA with 30 components : \n",
      "Accuracy on test set: 0.993380614657\n"
     ]
    }
   ],
   "source": [
    "#using just 30 components \n",
    "eig_pairs,w_lda,X_train_trans = my_lda_compressor(X_train_01,len(X_train_0)*7/10,len(X_train_1)*7/10,30)\n",
    "w,c = lda_classifier(X_train_trans,len(X_train_0)*7/10,len(X_train_1)*7/10,30)\n",
    "\n",
    "X_test_trans = (w_lda.T.dot(X_test_01.T)).T\n",
    "\n",
    "acc = 0.0\n",
    "y_pred = []\n",
    "for i in range(0,len(X_test_trans)):\n",
    "    pred = np.dot(w.T,X_test_trans[i].reshape(30,1)).flatten()[0]\n",
    "            #print pred\n",
    "    if pred > c:\n",
    "        pred = 1.0\n",
    "    else:\n",
    "        pred = 0.0\n",
    "    y_pred.append(pred)\n",
    "    if pred == y_test_01[i]:\n",
    "        acc  += 1\n",
    "accuracy = confusion_matrix(y_test_01,y_pred)\n",
    "print \"LDA with 30 components : \\nAccuracy on test set: \" + str(acc/len(X_test_01))"
   ]
  },
  {
   "cell_type": "code",
   "execution_count": 79,
   "metadata": {
    "collapsed": false
   },
   "outputs": [
    {
     "name": "stdout",
     "output_type": "stream",
     "text": [
      "Confusion matrix, without normalization\n",
      "[[ 975    5]\n",
      " [   9 1126]]\n",
      "Normalized confusion matrix\n",
      "[[ 0.99489796  0.00510204]\n",
      " [ 0.00792952  0.99207048]]\n"
     ]
    },
    {
     "data": {
      "image/png": "[encoded data removed]",
      "text/plain": [
       "<matplotlib.figure.Figure at 0x118558c90>"
      ]
     },
     "metadata": {},
     "output_type": "display_data"
    },
    {
     "data": {
      "image/png": "[encoded data removed]",
      "text/plain": [
       "<matplotlib.figure.Figure at 0x11840ca50>"
      ]
     },
     "metadata": {},
     "output_type": "display_data"
    }
   ],
   "source": [
    "labels = ['Class : 0', 'Class : 1']\n",
    "# Plot non-normalized confusion matrix\n",
    "plt.figure()\n",
    "plot_confusion_matrix(accuracy, classes=labels,\n",
    "                      title='Confusion matrix, without normalization')\n",
    "\n",
    "# Plot normalized confusion matrix\n",
    "plt.figure()\n",
    "plot_confusion_matrix(accuracy, classes=labels, normalize=True,\n",
    "                      title='Normalized confusion matrix')\n",
    "\n",
    "plt.show()"
   ]
  },
  {
   "cell_type": "markdown",
   "metadata": {},
   "source": [
    "Now, let's take a look at the Naive Bayes with gaussian distributions classifier applied to the problem. We'll pass the raw data and use all components and also look at passing PCA compressed data to the classifier and compare performance in terms of accuracy achieved on the validation set. \n",
    "\n",
    "First a sanity check with all 784 components by comparing my implementation accuracy results to the scikit learn library's.\n",
    "\n",
    "Note: There are a 167 pixels with 0 variance and hence do not provide any useful information."
   ]
  },
  {
   "cell_type": "code",
   "execution_count": 83,
   "metadata": {
    "collapsed": false
   },
   "outputs": [
    {
     "name": "stdout",
     "output_type": "stream",
     "text": [
      "Components: 784 Accuracy: 0.99\n"
     ]
    }
   ],
   "source": [
    "w_0,w = naive_bayes_classifier(X_train_01,len(X_train_0)*7/10,len(X_train_1)*7/10,784)\n",
    "acc = 0.0\n",
    "for i in range(0,len(X_val_01)):\n",
    "    try:\n",
    "        pred = math.exp(np.dot(w.T,X_val_01[i].reshape(784,1)).flatten()[0] + w_0)\n",
    "    except Exception:\n",
    "        print \"Exception\"\n",
    "        continue\n",
    "    if pred > 1:\n",
    "        pred = 0.0\n",
    "    else:\n",
    "        pred = 1.0\n",
    "    if pred == y_val_01[i]:\n",
    "        acc  += 1\n",
    "print \"Components: \" + str(784)+\" Accuracy: \"+str(acc/(len(X_val_01)))"
   ]
  },
  {
   "cell_type": "code",
   "execution_count": 86,
   "metadata": {
    "collapsed": false
   },
   "outputs": [
    {
     "name": "stdout",
     "output_type": "stream",
     "text": [
      "0.980263157895\n"
     ]
    }
   ],
   "source": [
    "gnb = GaussianNB().fit(X_train_01,y_train_01)\n",
    "score = gnb.score(X_val_01, y_val_01)\n",
    "print score"
   ]
  },
  {
   "cell_type": "markdown",
   "metadata": {},
   "source": [
    "I believe the difference in accuracy is due to our simplifying assumption that variance across both classes is the same and usage of a class independent sigma in the algorithm. The library performs classification taking into account class specific sigma vectors.\n",
    "\n",
    "Let's look at the accuracy of our naive bayes model trained on raw data on the test set."
   ]
  },
  {
   "cell_type": "code",
   "execution_count": 88,
   "metadata": {
    "collapsed": false
   },
   "outputs": [
    {
     "name": "stdout",
     "output_type": "stream",
     "text": [
      "Naive Bayes with all components : \n",
      "Accuracy on test set: 0.993853427896\n"
     ]
    }
   ],
   "source": [
    "acc = 0.0\n",
    "y_pred = []\n",
    "for i in range(0,len(X_test_01)):\n",
    "    try:\n",
    "        pred = math.exp(np.dot(w.T,X_test_01[i].reshape(784,1)).flatten()[0] + w_0)\n",
    "    except Exception:\n",
    "        print \"Exception\"\n",
    "        continue\n",
    "    if pred > 1:\n",
    "        pred = 0.0\n",
    "    else:\n",
    "        pred = 1.0\n",
    "    y_pred.append(pred)\n",
    "    if pred == y_test_01[i]:\n",
    "        acc  += 1\n",
    "accuracy = confusion_matrix(y_test_01,y_pred)\n",
    "print \"Naive Bayes with all components : \\nAccuracy on test set: \" + str(acc/len(X_test_01))"
   ]
  },
  {
   "cell_type": "code",
   "execution_count": 89,
   "metadata": {
    "collapsed": false
   },
   "outputs": [
    {
     "name": "stdout",
     "output_type": "stream",
     "text": [
      "Confusion matrix, without normalization\n",
      "[[ 969   11]\n",
      " [   2 1133]]\n",
      "Normalized confusion matrix\n",
      "[[ 0.98877551  0.01122449]\n",
      " [ 0.00176211  0.99823789]]\n"
     ]
    },
    {
     "data": {
      "image/png": "[encoded data removed]",
      "text/plain": [
       "<matplotlib.figure.Figure at 0x1185b2e50>"
      ]
     },
     "metadata": {},
     "output_type": "display_data"
    },
    {
     "data": {
      "image/png": "[encoded data removed]",
      "text/plain": [
       "<matplotlib.figure.Figure at 0x118222850>"
      ]
     },
     "metadata": {},
     "output_type": "display_data"
    }
   ],
   "source": [
    "labels = ['Class : 0', 'Class : 1']\n",
    "# Plot non-normalized confusion matrix\n",
    "plt.figure()\n",
    "plot_confusion_matrix(accuracy, classes=labels,\n",
    "                      title='Confusion matrix, without normalization')\n",
    "\n",
    "# Plot normalized confusion matrix\n",
    "plt.figure()\n",
    "plot_confusion_matrix(accuracy, classes=labels, normalize=True,\n",
    "                      title='Normalized confusion matrix')\n",
    "\n",
    "plt.show()"
   ]
  },
  {
   "cell_type": "markdown",
   "metadata": {},
   "source": [
    "Let's now have a look at the performance of the classifier when given the 30 component compressed data from PCA that seemed good enough for reconstruction."
   ]
  },
  {
   "cell_type": "code",
   "execution_count": 110,
   "metadata": {
    "collapsed": false
   },
   "outputs": [
    {
     "name": "stdout",
     "output_type": "stream",
     "text": [
      "Naive Bayes with 20 components : \n",
      "Accuracy on test set: 0.999527186761\n"
     ]
    }
   ],
   "source": [
    "n_comp = 30\n",
    "sklearn_pca = sklearnPCA(n_components=n_comp)\n",
    "sklearn_pca.fit(X_train_01)\n",
    "X_train_trans = sklearn_pca.transform(X_train_01)\n",
    "X_test_trans = sklearn_pca.transform(X_test_01)\n",
    "w_0,w = naive_bayes_classifier(X_train_trans,len(X_train_0)*7/10,len(X_train_1)*7/10,n_comp)\n",
    "     \n",
    "acc = 0.0\n",
    "y_pred = []\n",
    "for i in range(0,len(X_test_trans)):\n",
    "    try:\n",
    "        pred = math.exp(np.dot(w.T,X_test_trans[i].reshape(n_comp,1)).flatten()[0] + w_0)\n",
    "    except Exception:\n",
    "        print \"Exception\"\n",
    "        continue\n",
    "    if pred > 1:\n",
    "        pred = 0.0\n",
    "    else:\n",
    "        pred = 1.0\n",
    "    y_pred.append(pred)\n",
    "    if pred == y_test_01[i]:\n",
    "        acc  += 1\n",
    "accuracy = confusion_matrix(y_test_01,y_pred)\n",
    "print \"Naive Bayes with 20 components : \\nAccuracy on test set: \" + str(acc/len(X_test_01))"
   ]
  },
  {
   "cell_type": "code",
   "execution_count": 111,
   "metadata": {
    "collapsed": false
   },
   "outputs": [
    {
     "name": "stdout",
     "output_type": "stream",
     "text": [
      "Confusion matrix, without normalization\n",
      "[[ 979    1]\n",
      " [   0 1135]]\n",
      "Normalized confusion matrix\n",
      "[[ 0.99897959  0.00102041]\n",
      " [ 0.          1.        ]]\n"
     ]
    },
    {
     "data": {
      "image/png": "[encoded data removed]",
      "text/plain": [
       "<matplotlib.figure.Figure at 0x11858bd50>"
      ]
     },
     "metadata": {},
     "output_type": "display_data"
    },
    {
     "data": {
      "image/png": "[encoded data removed]",
      "text/plain": [
       "<matplotlib.figure.Figure at 0x118590dd0>"
      ]
     },
     "metadata": {},
     "output_type": "display_data"
    }
   ],
   "source": [
    "labels = ['Class : 0', 'Class : 1']\n",
    "# Plot non-normalized confusion matrix\n",
    "plt.figure()\n",
    "plot_confusion_matrix(accuracy, classes=labels,\n",
    "                      title='Confusion matrix, without normalization')\n",
    "\n",
    "# Plot normalized confusion matrix\n",
    "plt.figure()\n",
    "plot_confusion_matrix(accuracy, classes=labels, normalize=True,\n",
    "                      title='Normalized confusion matrix')\n",
    "\n",
    "plt.show()"
   ]
  },
  {
   "cell_type": "markdown",
   "metadata": {
    "collapsed": true
   },
   "source": [
    "Voila, it performs extremely well with a performance of 99.95%. Maybe too many components were adding noise resulting in a worse performance of the classifier!"
   ]
  },
  {
   "cell_type": "code",
   "execution_count": null,
   "metadata": {
    "collapsed": true
   },
   "outputs": [],
   "source": []
  }
 ],
 "metadata": {
  "anaconda-cloud": {},
  "kernelspec": {
   "display_name": "Python [conda root]",
   "language": "python",
   "name": "conda-root-py"
  },
  "language_info": {
   "codemirror_mode": {
    "name": "ipython",
    "version": 2
   },
   "file_extension": ".py",
   "mimetype": "text/x-python",
   "name": "python",
   "nbconvert_exporter": "python",
   "pygments_lexer": "ipython2",
   "version": "2.7.13"
  }
 },
 "nbformat": 4,
 "nbformat_minor": 1
}
